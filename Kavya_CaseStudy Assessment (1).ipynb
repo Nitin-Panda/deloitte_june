{
 "cells": [
  {
   "cell_type": "code",
   "execution_count": 1,
   "metadata": {},
   "outputs": [],
   "source": [
    "import findspark\n",
    "findspark.init(\"/usr/local/spark\")"
   ]
  },
  {
   "cell_type": "code",
   "execution_count": 2,
   "metadata": {},
   "outputs": [],
   "source": [
    "import pyspark\n",
    "sc = pyspark.SparkContext(appName='accumulatorExample')"
   ]
  },
  {
   "cell_type": "code",
   "execution_count": 3,
   "metadata": {},
   "outputs": [],
   "source": [
    "from pyspark.sql import SparkSession\n",
    "spark = SparkSession.builder.appName(\"Python Spark SQL example\") \\\n",
    "        .config(\"spark.sql.warehouse.dir\", \"hdfs://localhost:54310/user/hive/warehouse\") \\\n",
    "        .enableHiveSupport() \\\n",
    "        .getOrCreate()"
   ]
  },
  {
   "cell_type": "code",
   "execution_count": 10,
   "metadata": {},
   "outputs": [],
   "source": [
    "df_NYSE_daily = spark.read.csv('NYSE_daily.tsv', sep=r'\\t', header=False)"
   ]
  },
  {
   "cell_type": "code",
   "execution_count": 15,
   "metadata": {},
   "outputs": [],
   "source": [
    "df_NYSE_daily=df_NYSE_daily.withColumnRenamed(\"_c0\",\"exchange\")"
   ]
  },
  {
   "cell_type": "code",
   "execution_count": 16,
   "metadata": {},
   "outputs": [],
   "source": [
    "df_NYSE_daily=df_NYSE_daily.withColumnRenamed(\"_c1\",\"stock_symbol\")\n",
    "df_NYSE_daily=df_NYSE_daily.withColumnRenamed(\"_c2\",\"date\")\n",
    "df_NYSE_daily=df_NYSE_daily.withColumnRenamed(\"_c3\",\"open_price\")\n",
    "df_NYSE_daily=df_NYSE_daily.withColumnRenamed(\"_c4\",\"high_price\")\n",
    "df_NYSE_daily=df_NYSE_daily.withColumnRenamed(\"_c5\",\"low_price\")\n",
    "df_NYSE_daily=df_NYSE_daily.withColumnRenamed(\"_c6\",\"close_price\")\n",
    "df_NYSE_daily=df_NYSE_daily.withColumnRenamed(\"_c7\",\"volume\")\n",
    "df_NYSE_daily=df_NYSE_daily.withColumnRenamed(\"_c8\",\"adjusted_close_price\")"
   ]
  },
  {
   "cell_type": "code",
   "execution_count": 17,
   "metadata": {},
   "outputs": [
    {
     "name": "stdout",
     "output_type": "stream",
     "text": [
      "+--------+------------+---------+----------+----------+---------+-----------+-------+--------------------+\n",
      "|exchange|stock_symbol|     date|open_price|high_price|low_price|close_price| volume|adjusted_close_price|\n",
      "+--------+------------+---------+----------+----------+---------+-----------+-------+--------------------+\n",
      "|    NYSE|         JEF| 2/8/2010|      25.4|     25.49|    24.78|      24.82|1134300|               24.82|\n",
      "|    NYSE|         JEF| 2/5/2010|     24.91|     25.19|    24.08|      25.01|1765200|               25.01|\n",
      "|    NYSE|         JEF| 2/4/2010|     26.01|      26.2|    24.85|      24.85|1414400|               24.85|\n",
      "|    NYSE|         JEF| 2/3/2010|     26.23|     26.76|    26.22|      26.29|1066000|               26.29|\n",
      "|    NYSE|         JEF| 2/2/2010|     26.08|     26.86|    25.78|      26.46|1496400|               26.46|\n",
      "|    NYSE|         JEF| 2/1/2010|     25.61|     26.11|    25.36|      26.11|2381800|               26.11|\n",
      "|    NYSE|         JEF|1/29/2010|     26.57|      26.8|    25.41|      25.54|2010000|               25.54|\n",
      "|    NYSE|         JEF|1/28/2010|      27.4|      27.4|    26.35|      26.36|1708100|               26.36|\n",
      "|    NYSE|         JEF|1/27/2010|     26.44|     27.15|    26.42|      27.14|1929700|               27.14|\n",
      "|    NYSE|         JEF|1/26/2010|     26.68|     26.99|    26.46|       26.5|1422100|                26.5|\n",
      "+--------+------------+---------+----------+----------+---------+-----------+-------+--------------------+\n",
      "only showing top 10 rows\n",
      "\n"
     ]
    }
   ],
   "source": [
    "df_NYSE_daily.show(10)"
   ]
  },
  {
   "cell_type": "code",
   "execution_count": 18,
   "metadata": {},
   "outputs": [],
   "source": [
    "df_NYSE_dividends = spark.read.csv('NYSE_dividends.tsv', sep=r'\\t', header=False)"
   ]
  },
  {
   "cell_type": "code",
   "execution_count": 19,
   "metadata": {},
   "outputs": [
    {
     "name": "stdout",
     "output_type": "stream",
     "text": [
      "+----+---+----------+-----+\n",
      "| _c0|_c1|       _c2|  _c3|\n",
      "+----+---+----------+-----+\n",
      "|NYSE|JAH|12/30/2009|0.075|\n",
      "|NYSE|JAH| 9/29/2009|0.075|\n",
      "|NYSE|JGT|12/11/2009|0.377|\n",
      "|NYSE|JGT| 9/11/2009|0.377|\n",
      "|NYSE|JGT| 6/11/2009|0.377|\n",
      "|NYSE|JGT| 3/11/2009|0.377|\n",
      "|NYSE|JGT|12/11/2008|0.377|\n",
      "|NYSE|JGT| 9/11/2008|0.451|\n",
      "|NYSE|JGT| 6/11/2008|0.451|\n",
      "|NYSE|JGT| 3/12/2008|0.451|\n",
      "+----+---+----------+-----+\n",
      "only showing top 10 rows\n",
      "\n"
     ]
    }
   ],
   "source": [
    "df_NYSE_dividends.show(10)"
   ]
  },
  {
   "cell_type": "code",
   "execution_count": 20,
   "metadata": {},
   "outputs": [],
   "source": [
    "df_NYSE_dividends=df_NYSE_dividends.withColumnRenamed(\"_c0\",\"exchange\")\n",
    "df_NYSE_dividends=df_NYSE_dividends.withColumnRenamed(\"_c1\",\"stock_symbol\")\n",
    "df_NYSE_dividends=df_NYSE_dividends.withColumnRenamed(\"_c2\",\"date\")\n",
    "df_NYSE_dividends=df_NYSE_dividends.withColumnRenamed(\"_c3\",\"dividends\")"
   ]
  },
  {
   "cell_type": "code",
   "execution_count": 21,
   "metadata": {},
   "outputs": [
    {
     "name": "stdout",
     "output_type": "stream",
     "text": [
      "+--------+------------+----------+---------+\n",
      "|exchange|stock_symbol|      date|dividends|\n",
      "+--------+------------+----------+---------+\n",
      "|    NYSE|         JAH|12/30/2009|    0.075|\n",
      "|    NYSE|         JAH| 9/29/2009|    0.075|\n",
      "|    NYSE|         JGT|12/11/2009|    0.377|\n",
      "|    NYSE|         JGT| 9/11/2009|    0.377|\n",
      "|    NYSE|         JGT| 6/11/2009|    0.377|\n",
      "|    NYSE|         JGT| 3/11/2009|    0.377|\n",
      "|    NYSE|         JGT|12/11/2008|    0.377|\n",
      "|    NYSE|         JGT| 9/11/2008|    0.451|\n",
      "|    NYSE|         JGT| 6/11/2008|    0.451|\n",
      "|    NYSE|         JGT| 3/12/2008|    0.451|\n",
      "+--------+------------+----------+---------+\n",
      "only showing top 10 rows\n",
      "\n"
     ]
    }
   ],
   "source": [
    "df_NYSE_dividends.show(10)"
   ]
  },
  {
   "cell_type": "code",
   "execution_count": 22,
   "metadata": {},
   "outputs": [],
   "source": [
    "df_NYSE_dividends.write.saveAsTable('df_NYSE_dividends')"
   ]
  },
  {
   "cell_type": "code",
   "execution_count": 23,
   "metadata": {},
   "outputs": [],
   "source": [
    "df_NYSE_daily.write.saveAsTable('df_NYSE_daily')"
   ]
  },
  {
   "cell_type": "code",
   "execution_count": 24,
   "metadata": {},
   "outputs": [
    {
     "name": "stdout",
     "output_type": "stream",
     "text": [
      "+--------+-----------------+-----------+\n",
      "|database|        tableName|isTemporary|\n",
      "+--------+-----------------+-----------+\n",
      "| default|      city_master|      false|\n",
      "| default|  customer_master|      false|\n",
      "| default|    df_nyse_daily|      false|\n",
      "| default|df_nyse_dividends|      false|\n",
      "| default|       joinednyse|      false|\n",
      "| default|        nysedaily|      false|\n",
      "| default|    nysedividends|      false|\n",
      "| default|    region_master|      false|\n",
      "| default|     state_master|      false|\n",
      "+--------+-----------------+-----------+\n",
      "\n"
     ]
    }
   ],
   "source": [
    "spark.sql(\"show tables\").show()"
   ]
  },
  {
   "cell_type": "code",
   "execution_count": 26,
   "metadata": {},
   "outputs": [
    {
     "name": "stdout",
     "output_type": "stream",
     "text": [
      "root\n",
      " |-- exchange: string (nullable = true)\n",
      " |-- stock_symbol: string (nullable = true)\n",
      " |-- date: string (nullable = true)\n",
      " |-- open_price: string (nullable = true)\n",
      " |-- high_price: string (nullable = true)\n",
      " |-- low_price: string (nullable = true)\n",
      " |-- close_price: string (nullable = true)\n",
      " |-- volume: string (nullable = true)\n",
      " |-- adjusted_close_price: string (nullable = true)\n",
      "\n"
     ]
    }
   ],
   "source": [
    "dataframe_nyseDaily=spark.sql(\"Select * from df_nyse_daily\")\n",
    "dataframe_nyseDaily.printSchema()"
   ]
  },
  {
   "cell_type": "code",
   "execution_count": 27,
   "metadata": {},
   "outputs": [
    {
     "name": "stdout",
     "output_type": "stream",
     "text": [
      "root\n",
      " |-- exchange: string (nullable = true)\n",
      " |-- stock_symbol: string (nullable = true)\n",
      " |-- date: string (nullable = true)\n",
      " |-- dividends: string (nullable = true)\n",
      "\n"
     ]
    }
   ],
   "source": [
    "dataframe_nyseDividends=spark.sql(\"Select * from df_nyse_dividends\")\n",
    "dataframe_nyseDividends.printSchema()"
   ]
  },
  {
   "cell_type": "code",
   "execution_count": 28,
   "metadata": {},
   "outputs": [
    {
     "name": "stdout",
     "output_type": "stream",
     "text": [
      "+--------+------------+---------+----------+----------+---------+-----------+-------+--------------------+\n",
      "|exchange|stock_symbol|     date|open_price|high_price|low_price|close_price| volume|adjusted_close_price|\n",
      "+--------+------------+---------+----------+----------+---------+-----------+-------+--------------------+\n",
      "|    NYSE|         JEF| 2/8/2010|      25.4|     25.49|    24.78|      24.82|1134300|               24.82|\n",
      "|    NYSE|         JEF| 2/5/2010|     24.91|     25.19|    24.08|      25.01|1765200|               25.01|\n",
      "|    NYSE|         JEF| 2/4/2010|     26.01|      26.2|    24.85|      24.85|1414400|               24.85|\n",
      "|    NYSE|         JEF| 2/3/2010|     26.23|     26.76|    26.22|      26.29|1066000|               26.29|\n",
      "|    NYSE|         JEF| 2/2/2010|     26.08|     26.86|    25.78|      26.46|1496400|               26.46|\n",
      "|    NYSE|         JEF| 2/1/2010|     25.61|     26.11|    25.36|      26.11|2381800|               26.11|\n",
      "|    NYSE|         JEF|1/29/2010|     26.57|      26.8|    25.41|      25.54|2010000|               25.54|\n",
      "|    NYSE|         JEF|1/28/2010|      27.4|      27.4|    26.35|      26.36|1708100|               26.36|\n",
      "|    NYSE|         JEF|1/27/2010|     26.44|     27.15|    26.42|      27.14|1929700|               27.14|\n",
      "|    NYSE|         JEF|1/26/2010|     26.68|     26.99|    26.46|       26.5|1422100|                26.5|\n",
      "+--------+------------+---------+----------+----------+---------+-----------+-------+--------------------+\n",
      "only showing top 10 rows\n",
      "\n"
     ]
    }
   ],
   "source": [
    "dataframe_nyseDaily.show(10)"
   ]
  },
  {
   "cell_type": "code",
   "execution_count": 29,
   "metadata": {},
   "outputs": [
    {
     "name": "stdout",
     "output_type": "stream",
     "text": [
      "+--------+------------+----------+---------+\n",
      "|exchange|stock_symbol|      date|dividends|\n",
      "+--------+------------+----------+---------+\n",
      "|    NYSE|         JAH|12/30/2009|    0.075|\n",
      "|    NYSE|         JAH| 9/29/2009|    0.075|\n",
      "|    NYSE|         JGT|12/11/2009|    0.377|\n",
      "|    NYSE|         JGT| 9/11/2009|    0.377|\n",
      "|    NYSE|         JGT| 6/11/2009|    0.377|\n",
      "|    NYSE|         JGT| 3/11/2009|    0.377|\n",
      "|    NYSE|         JGT|12/11/2008|    0.377|\n",
      "|    NYSE|         JGT| 9/11/2008|    0.451|\n",
      "|    NYSE|         JGT| 6/11/2008|    0.451|\n",
      "|    NYSE|         JGT| 3/12/2008|    0.451|\n",
      "+--------+------------+----------+---------+\n",
      "only showing top 10 rows\n",
      "\n"
     ]
    }
   ],
   "source": [
    "dataframe_nyseDividends.show(10)"
   ]
  },
  {
   "cell_type": "markdown",
   "metadata": {},
   "source": [
    "### List the companies which have the stock close price more than or equal to 200 and stock volume more than or equal to 10 million."
   ]
  },
  {
   "cell_type": "code",
   "execution_count": 31,
   "metadata": {},
   "outputs": [],
   "source": [
    "df_problem1=spark.sql(\"Select * from df_nyse_daily where close_price>200 and volume>=10000000\")"
   ]
  },
  {
   "cell_type": "code",
   "execution_count": 32,
   "metadata": {},
   "outputs": [
    {
     "name": "stdout",
     "output_type": "stream",
     "text": [
      "+--------+------------+----------+----------+----------+---------+-----------+--------+--------------------+\n",
      "|exchange|stock_symbol|      date|open_price|high_price|low_price|close_price|  volume|adjusted_close_price|\n",
      "+--------+------------+----------+----------+----------+---------+-----------+--------+--------------------+\n",
      "|    NYSE|        JNPR| 11/3/2000|       198|    216.88|   196.25|     216.13|13424800|              216.13|\n",
      "|    NYSE|        JNPR|10/19/2000|    229.13|    234.31|      220|     232.58|11323800|              232.58|\n",
      "|    NYSE|        JNPR|10/18/2000|    219.38|       235|    212.5|     213.88|15463100|              213.88|\n",
      "|    NYSE|        JNPR|10/17/2000|    241.75|    241.81|      224|     229.19|16734200|              229.19|\n",
      "|    NYSE|        JNPR|10/16/2000|    226.75|     244.5|      224|        243|17288400|                 243|\n",
      "|    NYSE|        JNPR|10/13/2000|    201.75|     229.5|   201.63|      228.5|19565000|               228.5|\n",
      "|    NYSE|        JNPR|10/11/2000|     201.5|    219.44|   196.19|        206|16487000|                 206|\n",
      "|    NYSE|        JNPR|10/10/2000|     196.5|       211|      196|     205.94|12586900|              205.94|\n",
      "|    NYSE|        JNPR| 10/4/2000|    200.75|    211.63|    191.5|     207.95|11819100|              207.95|\n",
      "|    NYSE|        JNPR| 10/3/2000|    212.63|       215|      198|     201.44|13457300|              201.44|\n",
      "+--------+------------+----------+----------+----------+---------+-----------+--------+--------------------+\n",
      "only showing top 10 rows\n",
      "\n"
     ]
    }
   ],
   "source": [
    "df_problem1.show(10)"
   ]
  },
  {
   "cell_type": "code",
   "execution_count": 44,
   "metadata": {},
   "outputs": [
    {
     "name": "stdout",
     "output_type": "stream",
     "text": [
      "+------------+----------------+\n",
      "|stock_symbol|count(dividends)|\n",
      "+------------+----------------+\n",
      "|         JCP|             114|\n",
      "|         JEF|              72|\n",
      "|         JPM|             104|\n",
      "|         JRO|              63|\n",
      "|         JFP|              58|\n",
      "|         JHI|              99|\n",
      "|         JNJ|             160|\n",
      "|         JHS|              88|\n",
      "|         JTP|              91|\n",
      "|         JOE|              51|\n",
      "+------------+----------------+\n",
      "only showing top 10 rows\n",
      "\n"
     ]
    }
   ],
   "source": [
    "df_problem2=spark.sql(\"Select stock_symbol,count(dividends) from df_nyse_dividends group by stock_symbol having count(dividends)>50\")\n",
    "df_problem2.show(10)"
   ]
  },
  {
   "cell_type": "code",
   "execution_count": 40,
   "metadata": {},
   "outputs": [],
   "source": [
    "df_problem3=spark.sql(\"Select a.stock_symbol,a.close_price,b.dividends,a.date from df_nyse_daily a,df_nyse_dividends b where a.stock_symbol=b.stock_symbol and a.date=b.date and b.dividends>0.01 and close_price>=100 order by dividends\")"
   ]
  },
  {
   "cell_type": "code",
   "execution_count": 43,
   "metadata": {},
   "outputs": [
    {
     "name": "stdout",
     "output_type": "stream",
     "text": [
      "+------------+-----------+---------+----------+\n",
      "|stock_symbol|close_price|dividends|      date|\n",
      "+------------+-----------+---------+----------+\n",
      "|         JNJ|     101.62|  0.02625| 8/17/1987|\n",
      "|         JNJ|     104.37|     0.05| 2/11/1992|\n",
      "|         JCI|     109.55|    0.075|12/10/2003|\n",
      "|         JCI|     107.34|     0.11| 9/12/2007|\n",
      "|         JCI|     110.87|     0.11| 6/13/2007|\n",
      "|         JNJ|     103.75|     0.14|11/12/1999|\n",
      "|         JNJ|        101|     0.18| 5/18/2001|\n",
      "|         JPM|     110.62|  0.20667|  1/2/1998|\n",
      "|         JPM|     120.44|  0.20667| 10/2/1997|\n",
      "|         JPM|     139.31|     0.24|  4/2/1998|\n",
      "+------------+-----------+---------+----------+\n",
      "only showing top 10 rows\n",
      "\n"
     ]
    }
   ],
   "source": [
    "df_problem3.show(10)"
   ]
  },
  {
   "cell_type": "code",
   "execution_count": 45,
   "metadata": {},
   "outputs": [],
   "source": [
    "dataframe_nyseDaily.write.csv(\"nyseDailyWhole.csv\")"
   ]
  },
  {
   "cell_type": "code",
   "execution_count": 46,
   "metadata": {},
   "outputs": [],
   "source": [
    "dataframe_nyseDividends.write.csv(\"nyseDividendsWhole.csv\")"
   ]
  },
  {
   "cell_type": "code",
   "execution_count": 47,
   "metadata": {},
   "outputs": [],
   "source": [
    "df_problem1.write.csv(\"df_problem1.csv\")"
   ]
  },
  {
   "cell_type": "code",
   "execution_count": 48,
   "metadata": {},
   "outputs": [],
   "source": [
    "df_problem2.write.csv(\"df_problem2.csv\")\n",
    "df_problem3.write.csv(\"df_problem3.csv\")"
   ]
  },
  {
   "cell_type": "code",
   "execution_count": null,
   "metadata": {},
   "outputs": [],
   "source": []
  }
 ],
 "metadata": {
  "kernelspec": {
   "display_name": "Python 3 (ipykernel)",
   "language": "python",
   "name": "python3"
  },
  "language_info": {
   "codemirror_mode": {
    "name": "ipython",
    "version": 3
   },
   "file_extension": ".py",
   "mimetype": "text/x-python",
   "name": "python",
   "nbconvert_exporter": "python",
   "pygments_lexer": "ipython3",
   "version": "3.9.12"
  }
 },
 "nbformat": 4,
 "nbformat_minor": 2
}
