{
 "cells": [
  {
   "cell_type": "code",
   "execution_count": 1,
   "metadata": {},
   "outputs": [],
   "source": [
    "import findspark\n",
    "findspark.init('/usr/local/spark')"
   ]
  },
  {
   "cell_type": "code",
   "execution_count": 2,
   "metadata": {},
   "outputs": [],
   "source": [
    "import pyspark"
   ]
  },
  {
   "cell_type": "code",
   "execution_count": 3,
   "metadata": {},
   "outputs": [],
   "source": [
    "from pyspark.sql import SparkSession\n",
    "from pyspark.sql.functions import *\n",
    "from pyspark.sql.types import StringType, BooleanType, DateType"
   ]
  },
  {
   "cell_type": "code",
   "execution_count": 4,
   "metadata": {},
   "outputs": [],
   "source": [
    "spark = SparkSession.builder.appName(\"Python Spark SQL example\") \\\n",
    "        .config(\"spark.sql.warehouse.dir\", \"hdfs://localhost:54310/user/hive/warehouse\") \\\n",
    "        .enableHiveSupport() \\\n",
    "        .getOrCreate()"
   ]
  },
  {
   "cell_type": "code",
   "execution_count": 5,
   "metadata": {},
   "outputs": [],
   "source": [
    "carDF = spark.read.csv('Car_sales_transactions.csv', \n",
    "                       inferSchema = True, header = True)"
   ]
  },
  {
   "cell_type": "code",
   "execution_count": 6,
   "metadata": {},
   "outputs": [
    {
     "name": "stdout",
     "output_type": "stream",
     "text": [
      "+--------+----+----+-------------+---------+---------+----------+-----------+----+-----------+------------+-----+-------+------+---------+-----+\n",
      "|Sales_ID|Name|Year|Selling_Price|km_Driven|City_Code|State_Code|Postal_Code|Fuel|Seller_Type|Transmission|Owner|Mileage|Engine|Max_Power|Seats|\n",
      "+--------+----+----+-------------+---------+---------+----------+-----------+----+-----------+------------+-----+-------+------+---------+-----+\n",
      "|       0|   0|   0|            0|        0|        0|         0|          0|   0|          0|           0|    0|      0|     0|        0|    0|\n",
      "+--------+----+----+-------------+---------+---------+----------+-----------+----+-----------+------------+-----+-------+------+---------+-----+\n",
      "\n"
     ]
    }
   ],
   "source": [
    "carDF.select([count(when(isnan(c) | col(c).isNull(), c)).alias(c)\n",
    "              for c in carDF.schema.names]).show()"
   ]
  },
  {
   "cell_type": "code",
   "execution_count": 7,
   "metadata": {},
   "outputs": [],
   "source": [
    "carDF = carDF.withColumn('new1', split(col('Engine'), ' ').getItem(0).cast('float')) \\\n",
    "        .withColumn('new2', split(col('Name'), ' ').getItem(0)) \\\n",
    "        .withColumn('new3', split(col('Mileage'), ' ').getItem(0).cast('float')) \\\n",
    "        .withColumn('new4', split(col('Max_Power'), ' ').getItem(0).cast('float')) \\\n",
    "        .withColumn('Postal_Code', col('Postal_Code').cast(StringType())) \\\n",
    "        .withColumn('Seats', col('Seats').cast(StringType()))\n",
    "carDF = carDF.drop('Engine', 'Name', 'Mileage', 'Max_Power')\n",
    "carDF = carDF.withColumnRenamed('new1', 'Engine') \\\n",
    "        .withColumnRenamed('new2', 'Name') \\\n",
    "        .withColumnRenamed('new3', 'Mileage') \\\n",
    "        .withColumnRenamed('new4', 'Max_Power')"
   ]
  },
  {
   "cell_type": "code",
   "execution_count": 8,
   "metadata": {},
   "outputs": [
    {
     "name": "stdout",
     "output_type": "stream",
     "text": [
      "root\n",
      " |-- Sales_ID: integer (nullable = true)\n",
      " |-- Year: integer (nullable = true)\n",
      " |-- Selling_Price: integer (nullable = true)\n",
      " |-- km_Driven: integer (nullable = true)\n",
      " |-- City_Code: string (nullable = true)\n",
      " |-- State_Code: string (nullable = true)\n",
      " |-- Postal_Code: string (nullable = true)\n",
      " |-- Fuel: string (nullable = true)\n",
      " |-- Seller_Type: string (nullable = true)\n",
      " |-- Transmission: string (nullable = true)\n",
      " |-- Owner: string (nullable = true)\n",
      " |-- Seats: string (nullable = true)\n",
      " |-- Engine: float (nullable = true)\n",
      " |-- Name: string (nullable = true)\n",
      " |-- Mileage: float (nullable = true)\n",
      " |-- Max_Power: float (nullable = true)\n",
      "\n"
     ]
    }
   ],
   "source": [
    "carDF.printSchema()"
   ]
  },
  {
   "cell_type": "code",
   "execution_count": 9,
   "metadata": {},
   "outputs": [
    {
     "name": "stdout",
     "output_type": "stream",
     "text": [
      "+------+\n",
      "|Engine|\n",
      "+------+\n",
      "|1248.0|\n",
      "|1498.0|\n",
      "|1497.0|\n",
      "|1396.0|\n",
      "|1298.0|\n",
      "+------+\n",
      "only showing top 5 rows\n",
      "\n"
     ]
    }
   ],
   "source": [
    "carDF.select('Engine').show(5)"
   ]
  },
  {
   "cell_type": "code",
   "execution_count": 10,
   "metadata": {},
   "outputs": [
    {
     "name": "stdout",
     "output_type": "stream",
     "text": [
      "+---------+----------+-----------+----+-----------+------------+-----+-----+----+\n",
      "|City_Code|State_Code|Postal_Code|Fuel|Seller_Type|Transmission|Owner|Seats|Name|\n",
      "+---------+----------+-----------+----+-----------+------------+-----+-----+----+\n",
      "|       29|        18|         61|   4|          3|           2|    5|    9|  31|\n",
      "+---------+----------+-----------+----+-----------+------------+-----+-----+----+\n",
      "\n"
     ]
    }
   ],
   "source": [
    "catCols = ['City_Code', 'State_Code', 'Postal_Code', 'Fuel', 'Seller_Type',\n",
    "          'Transmission', 'Owner', 'Seats', 'Name']\n",
    "carDF.select([countDistinct(c).alias(c)\n",
    "              for c in catCols]).show()"
   ]
  },
  {
   "cell_type": "markdown",
   "metadata": {},
   "source": [
    "## Regression using PySpark MLlib\n",
    "we will use the Random Forest Regression model. The maximum classes in the categorical variable in the dataset is 61, hence we will set this as the max_category value in the preprocessing procedure"
   ]
  },
  {
   "cell_type": "code",
   "execution_count": 60,
   "metadata": {},
   "outputs": [],
   "source": [
    "from pyspark.ml import Pipeline\n",
    "from pyspark.ml.regression import RandomForestRegressor, LinearRegression, DecisionTreeRegressor, GBTRegressor\n",
    "from pyspark.ml.feature import VectorAssembler, StandardScaler\n",
    "from pyspark.ml.feature import VectorIndexer, StringIndexer, OneHotEncoder\n",
    "from pyspark.ml.evaluation import RegressionEvaluator\n",
    "from pyspark.ml.linalg import Vectors, VectorUDT"
   ]
  },
  {
   "cell_type": "code",
   "execution_count": 61,
   "metadata": {},
   "outputs": [],
   "source": [
    "featCols = [c for c in carDF.schema.names if \\\n",
    "            c != 'Selling_Price' and c != 'Sales_ID']\n",
    "targetCol = ['Selling_Price']\n",
    "numVar = [c for c in featCols if c not in catCols and targetCol]"
   ]
  },
  {
   "cell_type": "code",
   "execution_count": 166,
   "metadata": {},
   "outputs": [
    {
     "name": "stdout",
     "output_type": "stream",
     "text": [
      "root\n",
      " |-- label: integer (nullable = true)\n",
      " |-- Year: integer (nullable = true)\n",
      " |-- km_Driven: integer (nullable = true)\n",
      " |-- City_Code: string (nullable = true)\n",
      " |-- State_Code: string (nullable = true)\n",
      " |-- Postal_Code: string (nullable = true)\n",
      " |-- Fuel: string (nullable = true)\n",
      " |-- Seller_Type: string (nullable = true)\n",
      " |-- Transmission: string (nullable = true)\n",
      " |-- Owner: string (nullable = true)\n",
      " |-- Seats: string (nullable = true)\n",
      " |-- Engine: float (nullable = true)\n",
      " |-- Name: string (nullable = true)\n",
      " |-- Mileage: float (nullable = true)\n",
      " |-- Max_Power: float (nullable = true)\n",
      "\n"
     ]
    }
   ],
   "source": [
    "inputData = carDF.select(col('Selling_Price').alias('label'), \n",
    "                         *featCols)\n",
    "# inputData = carDF.select(*(col(c).cast('float') for c in numVar), \n",
    "#                          *catCols)\n",
    "inputData\n",
    "inputData.printSchema()"
   ]
  },
  {
   "cell_type": "code",
   "execution_count": 167,
   "metadata": {},
   "outputs": [],
   "source": [
    "indexers = [StringIndexer(inputCol = c, \n",
    "                         outputCol = 'indexedFeatures{0}'.format(c), handleInvalid = 'skip') for c in catCols]\n",
    "\n",
    "encoders = [OneHotEncoder(inputCol = indexer.getOutputCol(), \n",
    "                         outputCol = 'indexedFeaturesEnc{0}'.format(indexer.getOutputCol())) \\\n",
    "            for indexer in indexers]\n",
    "\n",
    "assembler = VectorAssembler(inputCols = [*(encoder.getOutputCol() \\\n",
    "                                         for encoder in encoders), *numVar], \n",
    "                             outputCol = \"features1\")\n",
    "vecIndexer = VectorIndexer(inputCol = 'features1', outputCol = 'features', maxCategories = 61)\n",
    "\n",
    "# scaler = StandardScaler(inputCol = 'scaled_features', outputCol = 'features')\n",
    "\n",
    "# rf = RandomForestRegressor(featuresCol='features')\n",
    "dt = GBTRegressor(featuresCol = 'features')\n",
    "\n",
    "# lr = LinearRegression()\n",
    "\n",
    "pipeline = Pipeline(stages = indexers + encoders + [assembler, vecIndexer, dt])\n",
    "\n",
    "# inputData = pipelineInData.fit(inputData).transform(inputData)"
   ]
  },
  {
   "cell_type": "code",
   "execution_count": 168,
   "metadata": {},
   "outputs": [],
   "source": [
    "# inputData = pipelineInData.fit(inputData).transform(inputData)"
   ]
  },
  {
   "cell_type": "code",
   "execution_count": 169,
   "metadata": {},
   "outputs": [],
   "source": [
    "(trainingData, testData) = inputData.randomSplit([0.7, 0.3])"
   ]
  },
  {
   "cell_type": "code",
   "execution_count": 170,
   "metadata": {
    "scrolled": true
   },
   "outputs": [
    {
     "name": "stdout",
     "output_type": "stream",
     "text": [
      "+-------+-----------------+------------------+-----------------+---------+----------+-----------------+------+----------------+------------+-----------+------------------+------------------+----------+------------------+-----------------+\n",
      "|summary|            label|              Year|        km_Driven|City_Code|State_Code|      Postal_Code|  Fuel|     Seller_Type|Transmission|      Owner|             Seats|            Engine|      Name|           Mileage|        Max_Power|\n",
      "+-------+-----------------+------------------+-----------------+---------+----------+-----------------+------+----------------+------------+-----------+------------------+------------------+----------+------------------+-----------------+\n",
      "|  count|             5578|              5578|             5578|     5578|      5578|             5578|  5578|            5578|        5578|       5578|              5578|              5578|      5578|              5578|             5578|\n",
      "|   mean|649840.9671925422|2013.9912154894228|69145.30423090713|     null|      null|503944.0344209394|  null|            null|        null|       null| 5.413947651487988|1454.3967371817855|      null|19.428418833109244|91.40147741228161|\n",
      "| stddev|809757.5394351248| 3.887621896371075|60146.10992173752|     null|      null|204379.2288315926|  null|            null|        null|       null|0.9601336939131131|500.61361720185215|      null|3.9894484660518135|35.24779705063732|\n",
      "|    min|            29999|              1994|             1000|     CT01|      ST01|           110001|   CNG|          Dealer|   Automatic|First Owner|                10|             624.0|Ambassador|               0.0|             32.8|\n",
      "|    max|          7200000|              2020|          2360457|     CT29|      ST34|           834001|Petrol|Trustmark Dealer|      Manual|Third Owner|                 9|            3604.0|     Volvo|             33.44|            280.0|\n",
      "+-------+-----------------+------------------+-----------------+---------+----------+-----------------+------+----------------+------------+-----------+------------------+------------------+----------+------------------+-----------------+\n",
      "\n"
     ]
    }
   ],
   "source": [
    "trainingData.describe().show()"
   ]
  },
  {
   "cell_type": "code",
   "execution_count": 171,
   "metadata": {},
   "outputs": [
    {
     "name": "stdout",
     "output_type": "stream",
     "text": [
      "+-------+-----------------+------------------+-----------------+---------+----------+------------------+------+----------------+------------+-----------+------------------+------------------+----------+-----------------+-----------------+\n",
      "|summary|            label|              Year|        km_Driven|City_Code|State_Code|       Postal_Code|  Fuel|     Seller_Type|Transmission|      Owner|             Seats|            Engine|      Name|          Mileage|        Max_Power|\n",
      "+-------+-----------------+------------------+-----------------+---------+----------+------------------+------+----------------+------------+-----------+------------------+------------------+----------+-----------------+-----------------+\n",
      "|  count|             2328|              2328|             2328|     2328|      2328|              2328|  2328|            2328|        2328|       2328|              2328|              2328|      2328|             2328|             2328|\n",
      "|   mean|649748.4372852234|2013.9664948453608|69292.54166666667|     null|      null|502647.23883161513|  null|            null|        null|       null| 5.422250859106529|1469.0408075601374|      null|19.39935571385413|92.03279013322391|\n",
      "| stddev|822850.8957050715|3.8065256544786883|47820.44761499853|     null|      null| 206317.5452623581|  null|            null|        null|       null|0.9571676554881202| 511.6258818968856|      null|4.147083029892848|36.92028483434047|\n",
      "|    min|            40000|              1997|                1|     CT01|      ST01|            110001|   CNG|          Dealer|   Automatic|First Owner|                10|             624.0|Ambassador|              0.0|             32.8|\n",
      "|    max|         10000000|              2020|           440000|     CT29|      ST34|            834001|Petrol|Trustmark Dealer|      Manual|Third Owner|                 9|            3604.0|     Volvo|             42.0|            400.0|\n",
      "+-------+-----------------+------------------+-----------------+---------+----------+------------------+------+----------------+------------+-----------+------------------+------------------+----------+-----------------+-----------------+\n",
      "\n"
     ]
    }
   ],
   "source": [
    "testData.describe().show()"
   ]
  },
  {
   "cell_type": "code",
   "execution_count": 172,
   "metadata": {},
   "outputs": [],
   "source": [
    "model = pipeline.fit(trainingData)"
   ]
  },
  {
   "cell_type": "code",
   "execution_count": 173,
   "metadata": {},
   "outputs": [],
   "source": [
    "predictions = model.transform(testData)"
   ]
  },
  {
   "cell_type": "code",
   "execution_count": 174,
   "metadata": {},
   "outputs": [
    {
     "name": "stdout",
     "output_type": "stream",
     "text": [
      "root\n",
      " |-- label: integer (nullable = true)\n",
      " |-- Year: integer (nullable = true)\n",
      " |-- km_Driven: integer (nullable = true)\n",
      " |-- City_Code: string (nullable = true)\n",
      " |-- State_Code: string (nullable = true)\n",
      " |-- Postal_Code: string (nullable = true)\n",
      " |-- Fuel: string (nullable = true)\n",
      " |-- Seller_Type: string (nullable = true)\n",
      " |-- Transmission: string (nullable = true)\n",
      " |-- Owner: string (nullable = true)\n",
      " |-- Seats: string (nullable = true)\n",
      " |-- Engine: float (nullable = true)\n",
      " |-- Name: string (nullable = true)\n",
      " |-- Mileage: float (nullable = true)\n",
      " |-- Max_Power: float (nullable = true)\n",
      " |-- indexedFeaturesCity_Code: double (nullable = true)\n",
      " |-- indexedFeaturesState_Code: double (nullable = true)\n",
      " |-- indexedFeaturesPostal_Code: double (nullable = true)\n",
      " |-- indexedFeaturesFuel: double (nullable = true)\n",
      " |-- indexedFeaturesSeller_Type: double (nullable = true)\n",
      " |-- indexedFeaturesTransmission: double (nullable = true)\n",
      " |-- indexedFeaturesOwner: double (nullable = true)\n",
      " |-- indexedFeaturesSeats: double (nullable = true)\n",
      " |-- indexedFeaturesName: double (nullable = true)\n",
      " |-- indexedFeaturesEncindexedFeaturesCity_Code: vector (nullable = true)\n",
      " |-- indexedFeaturesEncindexedFeaturesState_Code: vector (nullable = true)\n",
      " |-- indexedFeaturesEncindexedFeaturesPostal_Code: vector (nullable = true)\n",
      " |-- indexedFeaturesEncindexedFeaturesFuel: vector (nullable = true)\n",
      " |-- indexedFeaturesEncindexedFeaturesSeller_Type: vector (nullable = true)\n",
      " |-- indexedFeaturesEncindexedFeaturesTransmission: vector (nullable = true)\n",
      " |-- indexedFeaturesEncindexedFeaturesOwner: vector (nullable = true)\n",
      " |-- indexedFeaturesEncindexedFeaturesSeats: vector (nullable = true)\n",
      " |-- indexedFeaturesEncindexedFeaturesName: vector (nullable = true)\n",
      " |-- features1: vector (nullable = true)\n",
      " |-- features: vector (nullable = true)\n",
      " |-- prediction: double (nullable = true)\n",
      "\n"
     ]
    }
   ],
   "source": [
    "predictions.printSchema()"
   ]
  },
  {
   "cell_type": "code",
   "execution_count": 175,
   "metadata": {},
   "outputs": [
    {
     "name": "stdout",
     "output_type": "stream",
     "text": [
      "+------------------+-----+--------------------+\n",
      "|        prediction|label|            features|\n",
      "+------------------+-----+--------------------+\n",
      "|63463.624881547126|40000|(157,[16,31,52,10...|\n",
      "| 71727.91227122312|40000|(157,[13,28,66,10...|\n",
      "|63463.624881547126|40000|(157,[4,28,70,106...|\n",
      "| 67383.26673443643|40000|(157,[19,40,55,10...|\n",
      "| 72085.42227472259|42000|(157,[33,60,106,1...|\n",
      "| 69185.17817093592|45000|(157,[23,30,73,10...|\n",
      "| 68165.78042183329|45000|(157,[4,28,78,106...|\n",
      "|  100896.884711803|45000|(157,[2,30,82,106...|\n",
      "| 81928.76916663839|45957|(157,[11,32,74,10...|\n",
      "| 143319.9035499095|46000|(157,[27,59,106,1...|\n",
      "| 73088.21690844283|50000|(157,[19,40,55,10...|\n",
      "|103670.92338599057|50000|(157,[19,40,55,10...|\n",
      "| 85084.14528649345|55000|(157,[8,29,53,106...|\n",
      "|103739.06752529118|55000|(157,[3,28,46,106...|\n",
      "| 91813.30144227596|55000|(157,[0,35,80,105...|\n",
      "| 88378.04116363778|55000|(157,[16,31,52,10...|\n",
      "| 81213.41698549713|58000|(157,[26,44,103,1...|\n",
      "|  85915.5725257833|58000|(157,[20,41,64,10...|\n",
      "| 96214.54751543821|59000|(157,[7,29,65,106...|\n",
      "|63463.624881547126|60000|(157,[19,40,55,10...|\n",
      "+------------------+-----+--------------------+\n",
      "only showing top 20 rows\n",
      "\n"
     ]
    }
   ],
   "source": [
    "predictions.select('prediction', 'label', 'features').show()"
   ]
  },
  {
   "cell_type": "code",
   "execution_count": 176,
   "metadata": {},
   "outputs": [],
   "source": [
    "evaluator = RegressionEvaluator(labelCol = 'label', predictionCol = 'prediction', metricName = 'rmse')"
   ]
  },
  {
   "cell_type": "code",
   "execution_count": 165,
   "metadata": {},
   "outputs": [
    {
     "name": "stdout",
     "output_type": "stream",
     "text": [
      "[Row(avg(result)=23324757504.865894)]\n"
     ]
    }
   ],
   "source": [
    "result = predictions.withColumn('result', (predictions['prediction'] - predictions['label'])**2)\n",
    "print(result.select(mean('result')).collect())"
   ]
  },
  {
   "cell_type": "code",
   "execution_count": 177,
   "metadata": {},
   "outputs": [
    {
     "name": "stdout",
     "output_type": "stream",
     "text": [
      "Root mean squares error (RMSE) on test data = 232205\n"
     ]
    }
   ],
   "source": [
    "rmse = evaluator.evaluate(predictions)\n",
    "print('Root mean squares error (RMSE) on test data = %g' % rmse)"
   ]
  },
  {
   "cell_type": "code",
   "execution_count": 35,
   "metadata": {},
   "outputs": [
    {
     "name": "stdout",
     "output_type": "stream",
     "text": [
      "[StringIndexer_4cb3a2680aacd577ebc2, StringIndexer_4fd381b1115fcb818a18, StringIndexer_4ec0b020b94d3bbbee3a, StringIndexer_4bdcb1b3907d61aebaf1, StringIndexer_420583e0bd97d1485b92, StringIndexer_4123ae24ffa5d78d8c91, StringIndexer_4cedb04b295868b51d4c, StringIndexer_46629b2ec6c692db1e7c, StringIndexer_42469099ec7d239b6e6a, OneHotEncoder_4120ad27cf2c3a267619, OneHotEncoder_433abe3e0eb3991e824f, OneHotEncoder_4caa90fb6571aa1a8e16, OneHotEncoder_4ca7aacc3f99cf09410c, OneHotEncoder_4e779e71b290d623c9a1, OneHotEncoder_456fa77b6dc082ae1dc1, OneHotEncoder_4185ba581553d5161086, OneHotEncoder_4a72a31efe6e910d9538, OneHotEncoder_42b9a07d53782335c8cf, VectorAssembler_43079c5d78d1f8a8f2bf, VectorIndexer_47c5b9f2695bca47cdc0, RandomForestRegressionModel (uid=RandomForestRegressor_46c78233ddfbd429bf33) with 20 trees]\n"
     ]
    }
   ],
   "source": [
    "rfmodel = model.stages\n",
    "print(rfmodel)"
   ]
  },
  {
   "cell_type": "code",
   "execution_count": null,
   "metadata": {},
   "outputs": [],
   "source": [
    "featureIndexer = VectorIndexer(inputCol = \"features\", \n",
    "                               outputCol = 'indexedFeatures',\n",
    "                              maxCategories = 61).fit(inputData)"
   ]
  },
  {
   "cell_type": "code",
   "execution_count": null,
   "metadata": {},
   "outputs": [],
   "source": []
  }
 ],
 "metadata": {
  "kernelspec": {
   "display_name": "Python 3",
   "language": "python",
   "name": "python3"
  },
  "language_info": {
   "codemirror_mode": {
    "name": "ipython",
    "version": 3
   },
   "file_extension": ".py",
   "mimetype": "text/x-python",
   "name": "python",
   "nbconvert_exporter": "python",
   "pygments_lexer": "ipython3",
   "version": "3.5.2"
  }
 },
 "nbformat": 4,
 "nbformat_minor": 2
}
