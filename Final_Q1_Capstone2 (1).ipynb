{
 "cells": [
  {
   "cell_type": "code",
   "execution_count": 2,
   "metadata": {},
   "outputs": [],
   "source": [
    "#Importing the Pyspark\n",
    "import findspark\n",
    "findspark.init('/usr/local/spark')\n",
    "import pyspark"
   ]
  },
  {
   "cell_type": "code",
   "execution_count": 3,
   "metadata": {},
   "outputs": [],
   "source": [
    "#Launching the SparkSession and SQL-Context\n",
    "from pyspark.sql import SparkSession\n",
    "from pyspark.sql import SQLContext\n",
    "#Creating the Pyspark Application(AppName-'Car_sales')\n",
    "spark1= SparkSession.builder.appName(\"Car_sales\").enableHiveSupport().getOrCreate()"
   ]
  },
  {
   "cell_type": "code",
   "execution_count": 4,
   "metadata": {},
   "outputs": [
    {
     "data": {
      "text/plain": [
       "[Row(Sales_ID=1, Name='Maruti Swift Dzire VDI', Year=2014, Selling_Price=450000, km_Driven=145500, City_Code='CT01', State_Code='ST15', Postal_Code=400001, Fuel='Diesel', Seller_Type='Individual', Transmission='Manual', Owner='First Owner', Mileage=23.0, Engine=1248, Max_Power=74.0, Seats=5, Region_Code='R3', State_Name='Maharashtra', Sold='Y', Region='West', City_Name='Mumbai')]"
      ]
     },
     "execution_count": 4,
     "metadata": {},
     "output_type": "execute_result"
    }
   ],
   "source": [
    "#Reading the Final Dataset \n",
    "df=spark1.read.csv(\"Final2.csv\",inferSchema=True,header=True)\n",
    "df.head(1)"
   ]
  },
  {
   "cell_type": "code",
   "execution_count": 5,
   "metadata": {},
   "outputs": [
    {
     "name": "stdout",
     "output_type": "stream",
     "text": [
      "root\n",
      " |-- Sales_ID: integer (nullable = true)\n",
      " |-- Name: string (nullable = true)\n",
      " |-- Year: integer (nullable = true)\n",
      " |-- Selling_Price: integer (nullable = true)\n",
      " |-- km_Driven: integer (nullable = true)\n",
      " |-- City_Code: string (nullable = true)\n",
      " |-- State_Code: string (nullable = true)\n",
      " |-- Postal_Code: integer (nullable = true)\n",
      " |-- Fuel: string (nullable = true)\n",
      " |-- Seller_Type: string (nullable = true)\n",
      " |-- Transmission: string (nullable = true)\n",
      " |-- Owner: string (nullable = true)\n",
      " |-- Mileage: double (nullable = true)\n",
      " |-- Engine: integer (nullable = true)\n",
      " |-- Max_Power: double (nullable = true)\n",
      " |-- Seats: integer (nullable = true)\n",
      " |-- Region_Code: string (nullable = true)\n",
      " |-- State_Name: string (nullable = true)\n",
      " |-- Sold: string (nullable = true)\n",
      " |-- Region: string (nullable = true)\n",
      " |-- City_Name: string (nullable = true)\n",
      "\n"
     ]
    }
   ],
   "source": [
    "#printing the data schema\n",
    "df.printSchema()"
   ]
  },
  {
   "cell_type": "code",
   "execution_count": 6,
   "metadata": {},
   "outputs": [
    {
     "name": "stdout",
     "output_type": "stream",
     "text": [
      "+--------------------+\n",
      "|                Name|\n",
      "+--------------------+\n",
      "|Maruti Swift Dzir...|\n",
      "|Skoda Rapid 1.5 T...|\n",
      "|Honda City 2017-2...|\n",
      "|Hyundai i20 Sport...|\n",
      "|Maruti Swift VXI ...|\n",
      "|Hyundai Xcent 1.2...|\n",
      "|Maruti Wagon R LX...|\n",
      "|  Maruti 800 DX BSII|\n",
      "|    Toyota Etios VXD|\n",
      "|Ford Figo Diesel ...|\n",
      "|Renault Duster 11...|\n",
      "|       Maruti Zen LX|\n",
      "|Maruti Swift Dzir...|\n",
      "|Maruti Wagon R LX...|\n",
      "|Mahindra KUV 100 ...|\n",
      "|Maruti Ertiga SHV...|\n",
      "|Hyundai i20 1.4 C...|\n",
      "|      Maruti Alto LX|\n",
      "|Hyundai i20 2015-...|\n",
      "|Mahindra Verito 1...|\n",
      "+--------------------+\n",
      "only showing top 20 rows\n",
      "\n"
     ]
    }
   ],
   "source": [
    "#printed the Name Column\n",
    "df.select(\"Name\").show()"
   ]
  },
  {
   "cell_type": "code",
   "execution_count": 7,
   "metadata": {},
   "outputs": [
    {
     "name": "stdout",
     "output_type": "stream",
     "text": [
      "+--------------+\n",
      "|  databaseName|\n",
      "+--------------+\n",
      "|       default|\n",
      "|used_cars_data|\n",
      "|  usedcarsdata|\n",
      "+--------------+\n",
      "\n"
     ]
    }
   ],
   "source": [
    "#Checking the Databases in HIVE\n",
    "spark1.sql(\"show databases\").show()\n",
    "#Creating the HIVE Database (Database Name - used_cars_data)\n",
    "spark.sql(\"create database used_cars_data\")"
   ]
  },
  {
   "cell_type": "code",
   "execution_count": 32,
   "metadata": {},
   "outputs": [
    {
     "data": {
      "text/plain": [
       "DataFrame[]"
      ]
     },
     "execution_count": 32,
     "metadata": {},
     "output_type": "execute_result"
    }
   ],
   "source": [
    "#There are multiple databases\n",
    "#using the datbase that is created\n",
    "spark1.sql('use used_cars_data')"
   ]
  },
  {
   "cell_type": "code",
   "execution_count": 33,
   "metadata": {},
   "outputs": [],
   "source": [
    "#Creating the Hive Table(Table Name-'cars_data2') in Hive Database (Database Name - used_cars_data) as Textfile Format\n",
    "df1=spark1.sql('create table cars_data2 \\\n",
    "         (Sales_ID int,Name string,Year int,Selling_Price int,km_Driven int,City_Code string,State_Code string,Postal_Code int,Fuel string,Seller_Type string,Transmission string,Owner string,Mileage double,Engine int,Max_Power double,Seats int,Region_Code string,State_Name string,Sold string,Region string,City_Name string) \\\n",
    "        row format delimited fields terminated by \",\"\\\n",
    "         stored as textfile') \n",
    "        \n"
   ]
  },
  {
   "cell_type": "code",
   "execution_count": 34,
   "metadata": {},
   "outputs": [],
   "source": [
    "# Creating a Table in ORC Format\n",
    "df1=spark1.sql('create table cars_data3 \\\n",
    "         (Sales_ID int,Name string,Year int,Selling_Price int,km_Driven int,City_Code string,State_Code string,Postal_Code int,Fuel string,Seller_Type string,Transmission string,Owner string,Mileage double,Engine int,Max_Power double,Seats int,Region_Code string,State_Name string,Sold string,Region string,City_Name string) \\\n",
    "         stored as ORC') "
   ]
  },
  {
   "cell_type": "code",
   "execution_count": 37,
   "metadata": {},
   "outputs": [
    {
     "data": {
      "text/plain": [
       "DataFrame[]"
      ]
     },
     "execution_count": 37,
     "metadata": {},
     "output_type": "execute_result"
    }
   ],
   "source": [
    "#Loading the data(Final2.csv) into HiveTable (cars_data2)\n",
    "spark1.sql(\"load data local inpath '/home/hduser/Final2.csv'\\\n",
    "                 overwrite into table cars_data2\")"
   ]
  }
 ],
 "metadata": {
  "kernelspec": {
   "display_name": "Python 3 (ipykernel)",
   "language": "python",
   "name": "python3"
  },
  "language_info": {
   "codemirror_mode": {
    "name": "ipython",
    "version": 3
   },
   "file_extension": ".py",
   "mimetype": "text/x-python",
   "name": "python",
   "nbconvert_exporter": "python",
   "pygments_lexer": "ipython3",
   "version": "3.9.12"
  }
 },
 "nbformat": 4,
 "nbformat_minor": 2
}
